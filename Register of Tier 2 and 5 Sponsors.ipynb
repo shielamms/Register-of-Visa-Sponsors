{
 "cells": [
  {
   "cell_type": "code",
   "execution_count": 32,
   "metadata": {},
   "outputs": [],
   "source": [
    "import tabula\n",
    "import pandas as pd\n",
    "import numpy as np"
   ]
  },
  {
   "cell_type": "code",
   "execution_count": 60,
   "metadata": {},
   "outputs": [
    {
     "name": "stdout",
     "output_type": "stream",
     "text": [
      "Requirement already satisfied: tabula in c:\\users\\shiela.m.sandoval\\appdata\\local\\continuum\\anaconda3\\lib\\site-packages (1.0.5)\n",
      "Requirement already satisfied: numpy in c:\\users\\shiela.m.sandoval\\appdata\\local\\continuum\\anaconda3\\lib\\site-packages (from tabula) (1.17.4)\n",
      "Requirement already satisfied: setuptools in c:\\users\\shiela.m.sandoval\\appdata\\local\\continuum\\anaconda3\\lib\\site-packages (from tabula) (41.4.0)\n"
     ]
    },
    {
     "name": "stderr",
     "output_type": "stream",
     "text": [
      "WARNING: You are using pip version 20.2.3; however, version 20.2.4 is available.\n",
      "You should consider upgrading via the 'c:\\users\\shiela.m.sandoval\\appdata\\local\\continuum\\anaconda3\\python.exe -m pip install --upgrade pip' command.\n"
     ]
    }
   ],
   "source": [
    "!pip install tabula"
   ]
  },
  {
   "cell_type": "markdown",
   "metadata": {},
   "source": [
    "### Get the data and read PDF"
   ]
  },
  {
   "cell_type": "code",
   "execution_count": 33,
   "metadata": {},
   "outputs": [],
   "source": [
    "file = 'https://assets.publishing.service.gov.uk/government/uploads/system/uploads/attachment_data/file/935287/2020-11-13_Tier_2_5_Register_of_Sponsors.pdf'"
   ]
  },
  {
   "cell_type": "markdown",
   "metadata": {},
   "source": [
    "### Parse the Table on the First Page"
   ]
  },
  {
   "cell_type": "markdown",
   "metadata": {},
   "source": [
    "Only the lower 75% of the first page contains a table, so parsing is done a bit differently."
   ]
  },
  {
   "cell_type": "code",
   "execution_count": 34,
   "metadata": {},
   "outputs": [],
   "source": [
    "tables = tabula.read_pdf(file, pages = \"1\", multiple_tables = True, area=[200,10,800,830], pandas_options={'header': None})"
   ]
  },
  {
   "cell_type": "code",
   "execution_count": 35,
   "metadata": {},
   "outputs": [],
   "source": [
    "columns = ['Organization Name', 'Town/City', 'County', 'Tier & Rating', 'Sub Tier']"
   ]
  },
  {
   "cell_type": "code",
   "execution_count": 36,
   "metadata": {},
   "outputs": [],
   "source": [
    "first_page = tables[0]\n",
    "first_page.columns = columns"
   ]
  },
  {
   "cell_type": "code",
   "execution_count": 37,
   "metadata": {},
   "outputs": [
    {
     "data": {
      "text/plain": [
       "2108"
      ]
     },
     "execution_count": 37,
     "metadata": {},
     "output_type": "execute_result"
    }
   ],
   "source": [
    "total_pages_cell = first_page['Town/City'].iloc[len(first_page['Town/City']) - 1]\n",
    "total_pages = int(total_pages_cell.split()[-1])\n",
    "total_pages"
   ]
  },
  {
   "cell_type": "markdown",
   "metadata": {},
   "source": [
    "### Parse the other pages"
   ]
  },
  {
   "cell_type": "code",
   "execution_count": 38,
   "metadata": {},
   "outputs": [],
   "source": [
    "# other_pages = tabula.read_pdf(file, pages = '2-' + str(total_pages), multiple_tables = True, pandas_options={'header': None})\n",
    "other_pages = tabula.read_pdf(file, pages = '2-10', multiple_tables = True, area=[30,10,800,830], pandas_options={'header': None})"
   ]
  },
  {
   "cell_type": "code",
   "execution_count": 39,
   "metadata": {},
   "outputs": [],
   "source": [
    "new_df = pd.concat(other_pages)\n",
    "new_df.columns = columns"
   ]
  },
  {
   "cell_type": "code",
   "execution_count": 40,
   "metadata": {},
   "outputs": [],
   "source": [
    "all_data = pd.concat([first_page, new_df], axis=0).reset_index()"
   ]
  },
  {
   "cell_type": "code",
   "execution_count": 41,
   "metadata": {},
   "outputs": [
    {
     "data": {
      "text/html": [
       "<div>\n",
       "<style scoped>\n",
       "    .dataframe tbody tr th:only-of-type {\n",
       "        vertical-align: middle;\n",
       "    }\n",
       "\n",
       "    .dataframe tbody tr th {\n",
       "        vertical-align: top;\n",
       "    }\n",
       "\n",
       "    .dataframe thead th {\n",
       "        text-align: right;\n",
       "    }\n",
       "</style>\n",
       "<table border=\"1\" class=\"dataframe\">\n",
       "  <thead>\n",
       "    <tr style=\"text-align: right;\">\n",
       "      <th></th>\n",
       "      <th>index</th>\n",
       "      <th>Organization Name</th>\n",
       "      <th>Town/City</th>\n",
       "      <th>County</th>\n",
       "      <th>Tier &amp; Rating</th>\n",
       "      <th>Sub Tier</th>\n",
       "    </tr>\n",
       "  </thead>\n",
       "  <tbody>\n",
       "    <tr>\n",
       "      <th>0</th>\n",
       "      <td>0</td>\n",
       "      <td>@ Home Accommodation Services Ltd</td>\n",
       "      <td>London</td>\n",
       "      <td>NaN</td>\n",
       "      <td>NaN</td>\n",
       "      <td>NaN</td>\n",
       "    </tr>\n",
       "    <tr>\n",
       "      <th>1</th>\n",
       "      <td>1</td>\n",
       "      <td>NaN</td>\n",
       "      <td>NaN</td>\n",
       "      <td>NaN</td>\n",
       "      <td>Tier 2 (A rating)</td>\n",
       "      <td>Tier 2 General</td>\n",
       "    </tr>\n",
       "    <tr>\n",
       "      <th>2</th>\n",
       "      <td>2</td>\n",
       "      <td>NaN</td>\n",
       "      <td>NaN</td>\n",
       "      <td>NaN</td>\n",
       "      <td>Tier 5 (A rating)</td>\n",
       "      <td>Creative &amp; Sporting</td>\n",
       "    </tr>\n",
       "    <tr>\n",
       "      <th>3</th>\n",
       "      <td>3</td>\n",
       "      <td>]performance s p a c e [</td>\n",
       "      <td>Folkestone</td>\n",
       "      <td>Kent</td>\n",
       "      <td>NaN</td>\n",
       "      <td>NaN</td>\n",
       "    </tr>\n",
       "    <tr>\n",
       "      <th>4</th>\n",
       "      <td>4</td>\n",
       "      <td>NaN</td>\n",
       "      <td>NaN</td>\n",
       "      <td>NaN</td>\n",
       "      <td>Tier 5 (A rating)</td>\n",
       "      <td>Creative &amp; Sporting</td>\n",
       "    </tr>\n",
       "  </tbody>\n",
       "</table>\n",
       "</div>"
      ],
      "text/plain": [
       "   index                  Organization Name   Town/City County  \\\n",
       "0      0  @ Home Accommodation Services Ltd      London    NaN   \n",
       "1      1                                NaN         NaN    NaN   \n",
       "2      2                                NaN         NaN    NaN   \n",
       "3      3           ]performance s p a c e [  Folkestone   Kent   \n",
       "4      4                                NaN         NaN    NaN   \n",
       "\n",
       "       Tier & Rating             Sub Tier  \n",
       "0                NaN                  NaN  \n",
       "1  Tier 2 (A rating)       Tier 2 General  \n",
       "2  Tier 5 (A rating)  Creative & Sporting  \n",
       "3                NaN                  NaN  \n",
       "4  Tier 5 (A rating)  Creative & Sporting  "
      ]
     },
     "execution_count": 41,
     "metadata": {},
     "output_type": "execute_result"
    }
   ],
   "source": [
    "all_data.head()"
   ]
  },
  {
   "cell_type": "markdown",
   "metadata": {},
   "source": [
    "### Cleaning the data"
   ]
  },
  {
   "cell_type": "markdown",
   "metadata": {},
   "source": [
    "- Remove the rows containing the Page number\n",
    "- Fill blank cells with the data from previous row (fillna: method='ffill')\n",
    "- Drop duplicate rows without value in Tier & Rating column"
   ]
  },
  {
   "cell_type": "code",
   "execution_count": 42,
   "metadata": {},
   "outputs": [],
   "source": [
    "all_data['Town/City'] = all_data['Town/City'].replace(to_replace=r'Page', value=np.nan, regex=True)"
   ]
  },
  {
   "cell_type": "code",
   "execution_count": 43,
   "metadata": {},
   "outputs": [],
   "source": [
    "all_data['Organization Name'] = all_data['Organization Name'].fillna(method='ffill')\n",
    "all_data['Town/City'] = all_data['Town/City'].fillna(method='ffill')\n",
    "# all_data['County'] = all_data['County'].fillna(method='ffill')"
   ]
  },
  {
   "cell_type": "code",
   "execution_count": 44,
   "metadata": {},
   "outputs": [
    {
     "data": {
      "text/html": [
       "<div>\n",
       "<style scoped>\n",
       "    .dataframe tbody tr th:only-of-type {\n",
       "        vertical-align: middle;\n",
       "    }\n",
       "\n",
       "    .dataframe tbody tr th {\n",
       "        vertical-align: top;\n",
       "    }\n",
       "\n",
       "    .dataframe thead th {\n",
       "        text-align: right;\n",
       "    }\n",
       "</style>\n",
       "<table border=\"1\" class=\"dataframe\">\n",
       "  <thead>\n",
       "    <tr style=\"text-align: right;\">\n",
       "      <th></th>\n",
       "      <th>index</th>\n",
       "      <th>Organization Name</th>\n",
       "      <th>Town/City</th>\n",
       "      <th>County</th>\n",
       "      <th>Tier &amp; Rating</th>\n",
       "      <th>Sub Tier</th>\n",
       "    </tr>\n",
       "  </thead>\n",
       "  <tbody>\n",
       "    <tr>\n",
       "      <th>0</th>\n",
       "      <td>0</td>\n",
       "      <td>@ Home Accommodation Services Ltd</td>\n",
       "      <td>London</td>\n",
       "      <td>NaN</td>\n",
       "      <td>NaN</td>\n",
       "      <td>NaN</td>\n",
       "    </tr>\n",
       "    <tr>\n",
       "      <th>1</th>\n",
       "      <td>1</td>\n",
       "      <td>@ Home Accommodation Services Ltd</td>\n",
       "      <td>London</td>\n",
       "      <td>NaN</td>\n",
       "      <td>Tier 2 (A rating)</td>\n",
       "      <td>Tier 2 General</td>\n",
       "    </tr>\n",
       "    <tr>\n",
       "      <th>2</th>\n",
       "      <td>2</td>\n",
       "      <td>@ Home Accommodation Services Ltd</td>\n",
       "      <td>London</td>\n",
       "      <td>NaN</td>\n",
       "      <td>Tier 5 (A rating)</td>\n",
       "      <td>Creative &amp; Sporting</td>\n",
       "    </tr>\n",
       "    <tr>\n",
       "      <th>3</th>\n",
       "      <td>3</td>\n",
       "      <td>]performance s p a c e [</td>\n",
       "      <td>Folkestone</td>\n",
       "      <td>Kent</td>\n",
       "      <td>NaN</td>\n",
       "      <td>NaN</td>\n",
       "    </tr>\n",
       "    <tr>\n",
       "      <th>4</th>\n",
       "      <td>4</td>\n",
       "      <td>]performance s p a c e [</td>\n",
       "      <td>Folkestone</td>\n",
       "      <td>Kent</td>\n",
       "      <td>Tier 5 (A rating)</td>\n",
       "      <td>Creative &amp; Sporting</td>\n",
       "    </tr>\n",
       "    <tr>\n",
       "      <th>5</th>\n",
       "      <td>5</td>\n",
       "      <td>012 Global Ltd</td>\n",
       "      <td>London</td>\n",
       "      <td>Kent</td>\n",
       "      <td>NaN</td>\n",
       "      <td>NaN</td>\n",
       "    </tr>\n",
       "    <tr>\n",
       "      <th>6</th>\n",
       "      <td>6</td>\n",
       "      <td>012 Global Ltd</td>\n",
       "      <td>London</td>\n",
       "      <td>Kent</td>\n",
       "      <td>Tier 2 (A rating)</td>\n",
       "      <td>Tier 2 General</td>\n",
       "    </tr>\n",
       "    <tr>\n",
       "      <th>7</th>\n",
       "      <td>7</td>\n",
       "      <td>0-two Maintenance</td>\n",
       "      <td>London</td>\n",
       "      <td>Kent</td>\n",
       "      <td>NaN</td>\n",
       "      <td>NaN</td>\n",
       "    </tr>\n",
       "    <tr>\n",
       "      <th>8</th>\n",
       "      <td>8</td>\n",
       "      <td>0-two Maintenance</td>\n",
       "      <td>London</td>\n",
       "      <td>Kent</td>\n",
       "      <td>Tier 2 (A rating)</td>\n",
       "      <td>Tier 2 General</td>\n",
       "    </tr>\n",
       "    <tr>\n",
       "      <th>9</th>\n",
       "      <td>9</td>\n",
       "      <td>1 Digitals Europe Limited</td>\n",
       "      <td>Slough</td>\n",
       "      <td>Kent</td>\n",
       "      <td>NaN</td>\n",
       "      <td>NaN</td>\n",
       "    </tr>\n",
       "    <tr>\n",
       "      <th>10</th>\n",
       "      <td>10</td>\n",
       "      <td>1 Digitals Europe Limited</td>\n",
       "      <td>Slough</td>\n",
       "      <td>Kent</td>\n",
       "      <td>Tier 2 (A rating)</td>\n",
       "      <td>Tier 2 General</td>\n",
       "    </tr>\n",
       "    <tr>\n",
       "      <th>11</th>\n",
       "      <td>11</td>\n",
       "      <td>1 minus 1 Limited</td>\n",
       "      <td>Farnham</td>\n",
       "      <td>Surrey</td>\n",
       "      <td>NaN</td>\n",
       "      <td>NaN</td>\n",
       "    </tr>\n",
       "    <tr>\n",
       "      <th>12</th>\n",
       "      <td>12</td>\n",
       "      <td>1 minus 1 Limited</td>\n",
       "      <td>Farnham</td>\n",
       "      <td>Surrey</td>\n",
       "      <td>Tier 2 (A rating)</td>\n",
       "      <td>Tier 2 General</td>\n",
       "    </tr>\n",
       "    <tr>\n",
       "      <th>13</th>\n",
       "      <td>13</td>\n",
       "      <td>1 Stop Halal Limited</td>\n",
       "      <td>Eye</td>\n",
       "      <td>Suffolk</td>\n",
       "      <td>NaN</td>\n",
       "      <td>NaN</td>\n",
       "    </tr>\n",
       "    <tr>\n",
       "      <th>14</th>\n",
       "      <td>14</td>\n",
       "      <td>1 Stop Halal Limited</td>\n",
       "      <td>Eye</td>\n",
       "      <td>Suffolk</td>\n",
       "      <td>Tier 2 (A rating)</td>\n",
       "      <td>Tier 2 General</td>\n",
       "    </tr>\n",
       "    <tr>\n",
       "      <th>15</th>\n",
       "      <td>15</td>\n",
       "      <td>1 Stop Print Ltd</td>\n",
       "      <td>Ilford</td>\n",
       "      <td>Suffolk</td>\n",
       "      <td>NaN</td>\n",
       "      <td>NaN</td>\n",
       "    </tr>\n",
       "    <tr>\n",
       "      <th>16</th>\n",
       "      <td>16</td>\n",
       "      <td>1 Stop Print Ltd</td>\n",
       "      <td>Ilford</td>\n",
       "      <td>Suffolk</td>\n",
       "      <td>Tier 2 (A rating)</td>\n",
       "      <td>Tier 2 General</td>\n",
       "    </tr>\n",
       "    <tr>\n",
       "      <th>17</th>\n",
       "      <td>17</td>\n",
       "      <td>10 Europe Limited</td>\n",
       "      <td>Edinburgh</td>\n",
       "      <td>Suffolk</td>\n",
       "      <td>NaN</td>\n",
       "      <td>NaN</td>\n",
       "    </tr>\n",
       "    <tr>\n",
       "      <th>18</th>\n",
       "      <td>18</td>\n",
       "      <td>10 Europe Limited</td>\n",
       "      <td>Edinburgh</td>\n",
       "      <td>Suffolk</td>\n",
       "      <td>Tier 2 (A rating)</td>\n",
       "      <td>Tier 2 General</td>\n",
       "    </tr>\n",
       "    <tr>\n",
       "      <th>19</th>\n",
       "      <td>19</td>\n",
       "      <td>10 Europe Limited</td>\n",
       "      <td>Edinburgh</td>\n",
       "      <td>Suffolk</td>\n",
       "      <td>Tier 2 (A rating)</td>\n",
       "      <td>Intra Company Transfers (ICT)</td>\n",
       "    </tr>\n",
       "  </tbody>\n",
       "</table>\n",
       "</div>"
      ],
      "text/plain": [
       "    index                  Organization Name   Town/City   County  \\\n",
       "0       0  @ Home Accommodation Services Ltd      London      NaN   \n",
       "1       1  @ Home Accommodation Services Ltd      London      NaN   \n",
       "2       2  @ Home Accommodation Services Ltd      London      NaN   \n",
       "3       3           ]performance s p a c e [  Folkestone     Kent   \n",
       "4       4           ]performance s p a c e [  Folkestone     Kent   \n",
       "5       5                     012 Global Ltd      London     Kent   \n",
       "6       6                     012 Global Ltd      London     Kent   \n",
       "7       7                  0-two Maintenance      London     Kent   \n",
       "8       8                  0-two Maintenance      London     Kent   \n",
       "9       9          1 Digitals Europe Limited      Slough     Kent   \n",
       "10     10          1 Digitals Europe Limited      Slough     Kent   \n",
       "11     11                  1 minus 1 Limited     Farnham   Surrey   \n",
       "12     12                  1 minus 1 Limited     Farnham   Surrey   \n",
       "13     13               1 Stop Halal Limited         Eye  Suffolk   \n",
       "14     14               1 Stop Halal Limited         Eye  Suffolk   \n",
       "15     15                   1 Stop Print Ltd      Ilford  Suffolk   \n",
       "16     16                   1 Stop Print Ltd      Ilford  Suffolk   \n",
       "17     17                  10 Europe Limited   Edinburgh  Suffolk   \n",
       "18     18                  10 Europe Limited   Edinburgh  Suffolk   \n",
       "19     19                  10 Europe Limited   Edinburgh  Suffolk   \n",
       "\n",
       "        Tier & Rating                       Sub Tier  \n",
       "0                 NaN                            NaN  \n",
       "1   Tier 2 (A rating)                 Tier 2 General  \n",
       "2   Tier 5 (A rating)            Creative & Sporting  \n",
       "3                 NaN                            NaN  \n",
       "4   Tier 5 (A rating)            Creative & Sporting  \n",
       "5                 NaN                            NaN  \n",
       "6   Tier 2 (A rating)                 Tier 2 General  \n",
       "7                 NaN                            NaN  \n",
       "8   Tier 2 (A rating)                 Tier 2 General  \n",
       "9                 NaN                            NaN  \n",
       "10  Tier 2 (A rating)                 Tier 2 General  \n",
       "11                NaN                            NaN  \n",
       "12  Tier 2 (A rating)                 Tier 2 General  \n",
       "13                NaN                            NaN  \n",
       "14  Tier 2 (A rating)                 Tier 2 General  \n",
       "15                NaN                            NaN  \n",
       "16  Tier 2 (A rating)                 Tier 2 General  \n",
       "17                NaN                            NaN  \n",
       "18  Tier 2 (A rating)                 Tier 2 General  \n",
       "19  Tier 2 (A rating)  Intra Company Transfers (ICT)  "
      ]
     },
     "execution_count": 44,
     "metadata": {},
     "output_type": "execute_result"
    }
   ],
   "source": [
    "all_data[:20]"
   ]
  },
  {
   "cell_type": "code",
   "execution_count": 45,
   "metadata": {},
   "outputs": [],
   "source": [
    "all_data = all_data.drop(all_data.loc[all_data['Tier & Rating'].isna()].index, axis=0).drop(['index'], axis=1)\n",
    "all_data = all_data.reset_index(drop=True)"
   ]
  },
  {
   "cell_type": "code",
   "execution_count": 46,
   "metadata": {},
   "outputs": [
    {
     "data": {
      "text/html": [
       "<div>\n",
       "<style scoped>\n",
       "    .dataframe tbody tr th:only-of-type {\n",
       "        vertical-align: middle;\n",
       "    }\n",
       "\n",
       "    .dataframe tbody tr th {\n",
       "        vertical-align: top;\n",
       "    }\n",
       "\n",
       "    .dataframe thead th {\n",
       "        text-align: right;\n",
       "    }\n",
       "</style>\n",
       "<table border=\"1\" class=\"dataframe\">\n",
       "  <thead>\n",
       "    <tr style=\"text-align: right;\">\n",
       "      <th></th>\n",
       "      <th>Organization Name</th>\n",
       "      <th>Town/City</th>\n",
       "      <th>County</th>\n",
       "      <th>Tier &amp; Rating</th>\n",
       "      <th>Sub Tier</th>\n",
       "    </tr>\n",
       "  </thead>\n",
       "  <tbody>\n",
       "    <tr>\n",
       "      <th>0</th>\n",
       "      <td>@ Home Accommodation Services Ltd</td>\n",
       "      <td>London</td>\n",
       "      <td>NaN</td>\n",
       "      <td>Tier 2 (A rating)</td>\n",
       "      <td>Tier 2 General</td>\n",
       "    </tr>\n",
       "    <tr>\n",
       "      <th>1</th>\n",
       "      <td>@ Home Accommodation Services Ltd</td>\n",
       "      <td>London</td>\n",
       "      <td>NaN</td>\n",
       "      <td>Tier 5 (A rating)</td>\n",
       "      <td>Creative &amp; Sporting</td>\n",
       "    </tr>\n",
       "    <tr>\n",
       "      <th>2</th>\n",
       "      <td>]performance s p a c e [</td>\n",
       "      <td>Folkestone</td>\n",
       "      <td>Kent</td>\n",
       "      <td>Tier 5 (A rating)</td>\n",
       "      <td>Creative &amp; Sporting</td>\n",
       "    </tr>\n",
       "    <tr>\n",
       "      <th>3</th>\n",
       "      <td>012 Global Ltd</td>\n",
       "      <td>London</td>\n",
       "      <td>Kent</td>\n",
       "      <td>Tier 2 (A rating)</td>\n",
       "      <td>Tier 2 General</td>\n",
       "    </tr>\n",
       "    <tr>\n",
       "      <th>4</th>\n",
       "      <td>0-two Maintenance</td>\n",
       "      <td>London</td>\n",
       "      <td>Kent</td>\n",
       "      <td>Tier 2 (A rating)</td>\n",
       "      <td>Tier 2 General</td>\n",
       "    </tr>\n",
       "  </tbody>\n",
       "</table>\n",
       "</div>"
      ],
      "text/plain": [
       "                   Organization Name   Town/City County      Tier & Rating  \\\n",
       "0  @ Home Accommodation Services Ltd      London    NaN  Tier 2 (A rating)   \n",
       "1  @ Home Accommodation Services Ltd      London    NaN  Tier 5 (A rating)   \n",
       "2           ]performance s p a c e [  Folkestone   Kent  Tier 5 (A rating)   \n",
       "3                     012 Global Ltd      London   Kent  Tier 2 (A rating)   \n",
       "4                  0-two Maintenance      London   Kent  Tier 2 (A rating)   \n",
       "\n",
       "              Sub Tier  \n",
       "0       Tier 2 General  \n",
       "1  Creative & Sporting  \n",
       "2  Creative & Sporting  \n",
       "3       Tier 2 General  \n",
       "4       Tier 2 General  "
      ]
     },
     "execution_count": 46,
     "metadata": {},
     "output_type": "execute_result"
    }
   ],
   "source": [
    "all_data.head()"
   ]
  },
  {
   "cell_type": "code",
   "execution_count": 52,
   "metadata": {},
   "outputs": [],
   "source": [
    "# Clean character casing\n",
    "def clean_char_cases(column_data):\n",
    "    lower_case = list(column_data.str.lower())\n",
    "    \n",
    "    for i, t in enumerate(lower_case):\n",
    "        lower_case[i] = ' '.join(list(map(lambda x: x.capitalize(), t.split())))\n",
    "        \n",
    "    return lower_case"
   ]
  },
  {
   "cell_type": "code",
   "execution_count": 55,
   "metadata": {},
   "outputs": [],
   "source": [
    "all_data['Town/City'] = clean_char_cases(all_data['Town/City'])"
   ]
  },
  {
   "cell_type": "code",
   "execution_count": 56,
   "metadata": {},
   "outputs": [
    {
     "data": {
      "text/html": [
       "<div>\n",
       "<style scoped>\n",
       "    .dataframe tbody tr th:only-of-type {\n",
       "        vertical-align: middle;\n",
       "    }\n",
       "\n",
       "    .dataframe tbody tr th {\n",
       "        vertical-align: top;\n",
       "    }\n",
       "\n",
       "    .dataframe thead th {\n",
       "        text-align: right;\n",
       "    }\n",
       "</style>\n",
       "<table border=\"1\" class=\"dataframe\">\n",
       "  <thead>\n",
       "    <tr style=\"text-align: right;\">\n",
       "      <th></th>\n",
       "      <th>Organization Name</th>\n",
       "      <th>Town/City</th>\n",
       "      <th>County</th>\n",
       "      <th>Tier &amp; Rating</th>\n",
       "      <th>Sub Tier</th>\n",
       "    </tr>\n",
       "  </thead>\n",
       "  <tbody>\n",
       "    <tr>\n",
       "      <th>0</th>\n",
       "      <td>@ Home Accommodation Services Ltd</td>\n",
       "      <td>London</td>\n",
       "      <td>NaN</td>\n",
       "      <td>Tier 2 (A rating)</td>\n",
       "      <td>Tier 2 General</td>\n",
       "    </tr>\n",
       "    <tr>\n",
       "      <th>1</th>\n",
       "      <td>@ Home Accommodation Services Ltd</td>\n",
       "      <td>London</td>\n",
       "      <td>NaN</td>\n",
       "      <td>Tier 5 (A rating)</td>\n",
       "      <td>Creative &amp; Sporting</td>\n",
       "    </tr>\n",
       "    <tr>\n",
       "      <th>2</th>\n",
       "      <td>]performance s p a c e [</td>\n",
       "      <td>Folkestone</td>\n",
       "      <td>Kent</td>\n",
       "      <td>Tier 5 (A rating)</td>\n",
       "      <td>Creative &amp; Sporting</td>\n",
       "    </tr>\n",
       "    <tr>\n",
       "      <th>3</th>\n",
       "      <td>012 Global Ltd</td>\n",
       "      <td>London</td>\n",
       "      <td>Kent</td>\n",
       "      <td>Tier 2 (A rating)</td>\n",
       "      <td>Tier 2 General</td>\n",
       "    </tr>\n",
       "    <tr>\n",
       "      <th>4</th>\n",
       "      <td>0-two Maintenance</td>\n",
       "      <td>London</td>\n",
       "      <td>Kent</td>\n",
       "      <td>Tier 2 (A rating)</td>\n",
       "      <td>Tier 2 General</td>\n",
       "    </tr>\n",
       "  </tbody>\n",
       "</table>\n",
       "</div>"
      ],
      "text/plain": [
       "                   Organization Name   Town/City County      Tier & Rating  \\\n",
       "0  @ Home Accommodation Services Ltd      London    NaN  Tier 2 (A rating)   \n",
       "1  @ Home Accommodation Services Ltd      London    NaN  Tier 5 (A rating)   \n",
       "2           ]performance s p a c e [  Folkestone   Kent  Tier 5 (A rating)   \n",
       "3                     012 Global Ltd      London   Kent  Tier 2 (A rating)   \n",
       "4                  0-two Maintenance      London   Kent  Tier 2 (A rating)   \n",
       "\n",
       "              Sub Tier  \n",
       "0       Tier 2 General  \n",
       "1  Creative & Sporting  \n",
       "2  Creative & Sporting  \n",
       "3       Tier 2 General  \n",
       "4       Tier 2 General  "
      ]
     },
     "execution_count": 56,
     "metadata": {},
     "output_type": "execute_result"
    }
   ],
   "source": [
    "all_data.head()"
   ]
  },
  {
   "cell_type": "markdown",
   "metadata": {},
   "source": [
    "### Export CSV"
   ]
  },
  {
   "cell_type": "code",
   "execution_count": 59,
   "metadata": {},
   "outputs": [],
   "source": [
    "all_data.to_csv('Register of Sponsors.csv', index=False)"
   ]
  },
  {
   "cell_type": "markdown",
   "metadata": {},
   "source": [
    "### Sample search\n"
   ]
  },
  {
   "cell_type": "markdown",
   "metadata": {},
   "source": [
    "Use regex matching to match a search keyword with Organization Name"
   ]
  },
  {
   "cell_type": "code",
   "execution_count": null,
   "metadata": {},
   "outputs": [],
   "source": [
    "search_org1 = '012 global ltd'\n",
    "search_org2 = '101'\n",
    "search_org3 = 'london'"
   ]
  },
  {
   "cell_type": "code",
   "execution_count": null,
   "metadata": {},
   "outputs": [],
   "source": [
    "def search_organization(keyword):    \n",
    "    res = all_data['Organization Name'].loc[all_data['Organization Name'].str.contains(r'(?i)' + keyword, regex=True)]\n",
    "    \n",
    "    return res"
   ]
  },
  {
   "cell_type": "code",
   "execution_count": null,
   "metadata": {},
   "outputs": [],
   "source": [
    "search_organization(search_org1)"
   ]
  },
  {
   "cell_type": "code",
   "execution_count": null,
   "metadata": {},
   "outputs": [],
   "source": [
    "search_organization(search_org2)"
   ]
  },
  {
   "cell_type": "code",
   "execution_count": null,
   "metadata": {},
   "outputs": [],
   "source": [
    "search_organization(search_org3)"
   ]
  },
  {
   "cell_type": "markdown",
   "metadata": {},
   "source": [
    "### Get unique towns and counties"
   ]
  },
  {
   "cell_type": "code",
   "execution_count": null,
   "metadata": {},
   "outputs": [],
   "source": [
    "def get_unique_place_names(column_data):\n",
    "    non_null_data = column_data.drop(column_data.loc[column_data.isna()].index, axis=0)\n",
    "    \n",
    "    places = non_null_data.str.lower()\n",
    "    unique_names = list(places.unique())\n",
    "    \n",
    "    for i, t in enumerate(unique_names):\n",
    "        unique_names[i] = ' '.join(list(map(lambda x: x.capitalize(), t.split())))\n",
    "        \n",
    "    return sorted(unique_names)"
   ]
  },
  {
   "cell_type": "code",
   "execution_count": null,
   "metadata": {},
   "outputs": [],
   "source": [
    "unique_towns = get_unique_place_names(all_data['Town/City'])\n",
    "unique_counties = get_unique_place_names(all_data['County'])"
   ]
  },
  {
   "cell_type": "code",
   "execution_count": null,
   "metadata": {},
   "outputs": [],
   "source": [
    "unique_towns[:10]"
   ]
  },
  {
   "cell_type": "code",
   "execution_count": null,
   "metadata": {},
   "outputs": [],
   "source": [
    "unique_counties[:10]"
   ]
  },
  {
   "cell_type": "code",
   "execution_count": null,
   "metadata": {},
   "outputs": [],
   "source": [
    "unique_tiers = get_unique_place_names(all_data['Tier & Rating'])\n",
    "unique_sub_tiers = get_unique_place_names(all_data['Sub Tier'])"
   ]
  },
  {
   "cell_type": "code",
   "execution_count": null,
   "metadata": {},
   "outputs": [],
   "source": [
    "unique_tiers"
   ]
  },
  {
   "cell_type": "code",
   "execution_count": null,
   "metadata": {},
   "outputs": [],
   "source": [
    "unique_sub_tiers"
   ]
  },
  {
   "cell_type": "code",
   "execution_count": null,
   "metadata": {},
   "outputs": [],
   "source": []
  },
  {
   "cell_type": "code",
   "execution_count": null,
   "metadata": {},
   "outputs": [],
   "source": []
  },
  {
   "cell_type": "code",
   "execution_count": null,
   "metadata": {},
   "outputs": [],
   "source": []
  }
 ],
 "metadata": {
  "kernelspec": {
   "display_name": "Python 3",
   "language": "python",
   "name": "python3"
  },
  "language_info": {
   "codemirror_mode": {
    "name": "ipython",
    "version": 3
   },
   "file_extension": ".py",
   "mimetype": "text/x-python",
   "name": "python",
   "nbconvert_exporter": "python",
   "pygments_lexer": "ipython3",
   "version": "3.7.4"
  }
 },
 "nbformat": 4,
 "nbformat_minor": 2
}
